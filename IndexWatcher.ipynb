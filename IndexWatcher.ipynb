{
 "cells": [
  {
   "cell_type": "code",
   "execution_count": 1,
   "metadata": {},
   "outputs": [],
   "source": [
    "from pandas_datareader import data\n",
    "import numpy as np\n",
    "import pandas as pd\n",
    "import datetime\n",
    "import seaborn as sns\n",
    "import plotly.express as px\n",
    "import plotly.graph_objects as go\n",
    "from plotly.subplots import make_subplots\n",
    "import matplotlib.pyplot as plt\n",
    "%matplotlib inline"
   ]
  },
  {
   "cell_type": "code",
   "execution_count": null,
   "metadata": {},
   "outputs": [],
   "source": [
    "tickers = ['^HSI', '^N225', '^GDAXI','^DJI', '^IXIC' ]\n",
    "start_date = '2014-12-22'\n",
    "end_date = '2020-03-19'\n",
    "\n",
    "#Pull data\n",
    "df_ticker = []\n",
    "for k,ticker in enumerate(tickers):\n",
    "    df = data.DataReader(ticker, 'yahoo', start_date, end_date)\n",
    "    df['relClose'] = df['Close'] /df['Close'].iloc[0]*100\n",
    "    df_ticker.append(df)"
   ]
  },
  {
   "cell_type": "code",
   "execution_count": null,
   "metadata": {},
   "outputs": [],
   "source": [
    "#OLNY NECESSARY TO SHOW FIGURES IN GITHUB - CAN BE REMOVED OTHERWISE\n",
    "import plotly.io as pio\n",
    "pio.renderers.default = \"svg\"\n",
    "\n",
    "fig = go.Figure()\n",
    "for k,ticker in enumerate(tickers):\n",
    "    df = df_ticker[k]\n",
    "    fig.add_trace(go.Scatter(x=df.index,  y=df['relClose'], name=ticker))\n",
    "fig.update_layout(title=\"Relative Index prices - all Indices scales to 100 at beginning\")\n",
    "fig.update_xaxes(range=['2015-12-12', '2020-06-22'])\n",
    "fig.show()"
   ]
  },
  {
   "cell_type": "code",
   "execution_count": null,
   "metadata": {},
   "outputs": [],
   "source": [
    "fig = go.Figure()\n",
    "for k,ticker in enumerate(tickers):\n",
    "    df = df_ticker[k]\n",
    "    fig.add_trace(go.Scatter(x=df.index,  y=df['Close'], name=ticker))\n",
    "fig.update_layout(title=\"Absolute Index prices\")\n",
    "fig.update_xaxes(range=['2015-12-12', '2020-06-22'])\n",
    "fig.show()"
   ]
  },
  {
   "cell_type": "code",
   "execution_count": null,
   "metadata": {},
   "outputs": [],
   "source": [
    "fig = go.Figure()\n",
    "for k,ticker in enumerate(tickers):\n",
    "    df = df_ticker[k]\n",
    "    df['relClose'] = df['Close']/df.loc['2019-12-12'].Close*100\n",
    "    fig.add_trace(go.Scatter(x=df.index,  y=df['relClose'], name=ticker))\n",
    "fig.update_layout(title=\"Relative Index prices - all Indices scales to 100 at beginning\")\n",
    "fig.update_yaxes(range=[60, 115])\n",
    "fig.update_xaxes(range=['2019-12-12', '2020-04-22'])\n",
    "fig.show()"
   ]
  },
  {
   "cell_type": "code",
   "execution_count": null,
   "metadata": {},
   "outputs": [],
   "source": []
  },
  {
   "cell_type": "code",
   "execution_count": null,
   "metadata": {},
   "outputs": [],
   "source": []
  },
  {
   "cell_type": "code",
   "execution_count": null,
   "metadata": {},
   "outputs": [],
   "source": []
  }
 ],
 "metadata": {
  "kernelspec": {
   "display_name": "Python 3",
   "language": "python",
   "name": "python3"
  },
  "language_info": {
   "codemirror_mode": {
    "name": "ipython",
    "version": 3
   },
   "file_extension": ".py",
   "mimetype": "text/x-python",
   "name": "python",
   "nbconvert_exporter": "python",
   "pygments_lexer": "ipython3",
   "version": "3.6.5"
  }
 },
 "nbformat": 4,
 "nbformat_minor": 4
}
